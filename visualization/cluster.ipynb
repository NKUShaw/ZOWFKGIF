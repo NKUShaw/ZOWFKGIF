{
 "cells": [
  {
   "cell_type": "code",
   "execution_count": 5,
   "id": "38421bd6-7bf0-4464-ad60-3c9df27c4810",
   "metadata": {},
   "outputs": [],
   "source": [
    "import numpy as np\n",
    "import time\n",
    "import random\n",
    "from sklearn.cluster import KMeans\n",
    "import torch\n",
    "import openke\n",
    "import matplotlib.pyplot as plt\n",
    "from openke.config import Trainer, Tester\n",
    "from openke.module.model import TransE, TransD, TransH\n",
    "from openke.module.loss import MarginLoss\n",
    "from openke.module.strategy import NegativeSampling\n",
    "from openke.data import TrainDataLoader, TestDataLoader\n",
    "import torch.nn.functional as F\n",
    "import networkx as nx\n",
    "from sklearn.cluster import SpectralClustering"
   ]
  },
  {
   "cell_type": "code",
   "execution_count": 6,
   "id": "e535df02-7193-4ecd-bb26-0431d67979cf",
   "metadata": {},
   "outputs": [
    {
     "name": "stdout",
     "output_type": "stream",
     "text": [
      "Fri Jun 14 19:22:38 2024       \n",
      "+---------------------------------------------------------------------------------------+\n",
      "| NVIDIA-SMI 535.161.07             Driver Version: 535.161.07   CUDA Version: 12.2     |\n",
      "|-----------------------------------------+----------------------+----------------------+\n",
      "| GPU  Name                 Persistence-M | Bus-Id        Disp.A | Volatile Uncorr. ECC |\n",
      "| Fan  Temp   Perf          Pwr:Usage/Cap |         Memory-Usage | GPU-Util  Compute M. |\n",
      "|                                         |                      |               MIG M. |\n",
      "|=========================================+======================+======================|\n",
      "|   0  NVIDIA L40S                    Off | 00000000:01:00.0 Off |                    0 |\n",
      "| N/A   61C    P0             219W / 350W |   4342MiB / 46068MiB |     87%      Default |\n",
      "|                                         |                      |                  N/A |\n",
      "+-----------------------------------------+----------------------+----------------------+\n",
      "|   1  NVIDIA L40S                    Off | 00000000:41:00.0 Off |                    0 |\n",
      "| N/A   33C    P8              33W / 350W |      3MiB / 46068MiB |      0%      Default |\n",
      "|                                         |                      |                  N/A |\n",
      "+-----------------------------------------+----------------------+----------------------+\n",
      "                                                                                         \n",
      "+---------------------------------------------------------------------------------------+\n",
      "| Processes:                                                                            |\n",
      "|  GPU   GI   CI        PID   Type   Process name                            GPU Memory |\n",
      "|        ID   ID                                                             Usage      |\n",
      "|=======================================================================================|\n",
      "|    0   N/A  N/A   3884886      C   python                                      542MiB |\n",
      "|    0   N/A  N/A   3884941      C   python                                     3790MiB |\n",
      "+---------------------------------------------------------------------------------------+\n"
     ]
    }
   ],
   "source": [
    "!nvidia-smi"
   ]
  },
  {
   "cell_type": "code",
   "execution_count": 6,
   "id": "cf37a971-7dc3-4f7d-b708-35144c27dc9e",
   "metadata": {},
   "outputs": [],
   "source": [
    "def load_data(file_path):\n",
    "    with open(file_path, 'r') as f:\n",
    "        lines = f.readlines()\n",
    "    num_triples = int(lines[0].strip())\n",
    "    triples = np.array([list(map(int, line.strip().split())) for line in lines[1:]])\n",
    "    return num_triples, triples\n",
    "\n",
    "def convert_to_batch_data(triples, device):\n",
    "    batch_data = {\n",
    "        'batch_h': torch.tensor([triple[0] for triple in triples], dtype=torch.long).to(device),\n",
    "        'batch_t': torch.tensor([triple[1] for triple in triples], dtype=torch.long).to(device),\n",
    "        'batch_r': torch.tensor([triple[2] for triple in triples], dtype=torch.long).to(device),\n",
    "        'batch_y': torch.tensor([1 for _ in triples], dtype=torch.long).to(device),  \n",
    "        'mode': \"normal\"\n",
    "    }\n",
    "    return batch_data"
   ]
  },
  {
   "cell_type": "code",
   "execution_count": 7,
   "id": "5ff05e56-7390-4c76-8404-f0fb22e541e7",
   "metadata": {},
   "outputs": [],
   "source": [
    "device = torch.device('cuda:1')\n",
    "Train_dataloader = TrainDataLoader(\n",
    "    in_path=None,\n",
    "    tri_file='./benchmarks/YAGO3-10/remaining_0.1.txt',\n",
    "    ent_file=\"./benchmarks/YAGO3-10/entity2id.txt\",\n",
    "    rel_file=\"./benchmarks/YAGO3-10/relation2id.txt\",\n",
    "    nbatches=100,\n",
    "    threads=8,\n",
    "    sampling_mode=\"normal\",\n",
    "    bern_flag=1,\n",
    "    filter_flag=1,\n",
    "    neg_ent=25,\n",
    "    neg_rel=0)"
   ]
  },
  {
   "cell_type": "code",
   "execution_count": 8,
   "id": "0b06e5a3-f54a-4b2a-8e2c-f7cfe06eb382",
   "metadata": {},
   "outputs": [],
   "source": [
    "Model = TransH(\n",
    "\tent_tot = Train_dataloader.get_ent_tot(),\n",
    "\trel_tot = Train_dataloader.get_rel_tot(),\n",
    "\tdim = 200, \n",
    "\tp_norm = 1, \n",
    "\tnorm_flag = True)"
   ]
  },
  {
   "cell_type": "code",
   "execution_count": 9,
   "id": "abaa30d0-8245-47ef-a329-1317b359e864",
   "metadata": {},
   "outputs": [],
   "source": [
    "Model.to(device)\n",
    "Model = torch.load('./checkpoint/YAGO/YAGO_TransH.ckpt')"
   ]
  },
  {
   "cell_type": "code",
   "execution_count": 10,
   "id": "f7ad1314-618a-447f-b2ec-f625399760f3",
   "metadata": {},
   "outputs": [
    {
     "data": {
      "text/plain": [
       "tensor([[ 4.7182e-05, -2.2297e-03, -1.7224e-05,  ..., -5.6882e-04,\n",
       "          1.3771e-04, -1.2485e-03],\n",
       "        [ 3.0602e-03,  6.2708e-03,  3.0479e-03,  ...,  3.5679e-03,\n",
       "          7.1930e-03,  7.5935e-03],\n",
       "        [-3.5973e-04,  2.9162e-05,  5.9463e-03,  ..., -5.5361e-03,\n",
       "          9.3293e-03,  2.1837e-04],\n",
       "        ...,\n",
       "        [-2.1864e-03,  2.3103e-03, -4.5022e-03,  ..., -4.2678e-03,\n",
       "          6.7811e-04,  4.2009e-03],\n",
       "        [-1.2137e-04, -3.1711e-03,  2.6538e-03,  ..., -1.8675e-03,\n",
       "          5.1895e-03, -1.7089e-03],\n",
       "        [ 1.0247e-02,  8.0756e-03,  1.1137e-02,  ..., -3.0951e-03,\n",
       "         -5.7843e-03,  1.0830e-02]], device='cuda:0')"
      ]
     },
     "execution_count": 10,
     "metadata": {},
     "output_type": "execute_result"
    }
   ],
   "source": [
    "Model['ent_embeddings.weight']"
   ]
  },
  {
   "cell_type": "code",
   "execution_count": 12,
   "id": "63508891-acfd-492a-9020-874601814f76",
   "metadata": {},
   "outputs": [
    {
     "data": {
      "text/plain": [
       "torch.Size([123182, 200])"
      ]
     },
     "execution_count": 12,
     "metadata": {},
     "output_type": "execute_result"
    }
   ],
   "source": [
    "Model['ent_embeddings.weight'].shape"
   ]
  },
  {
   "cell_type": "code",
   "execution_count": 13,
   "id": "86c96f72-6c73-43f8-8edb-d7031b9a466e",
   "metadata": {},
   "outputs": [
    {
     "data": {
      "text/plain": [
       "torch.Size([37, 200])"
      ]
     },
     "execution_count": 13,
     "metadata": {},
     "output_type": "execute_result"
    }
   ],
   "source": [
    "Model['rel_embeddings.weight'].shape"
   ]
  },
  {
   "cell_type": "code",
   "execution_count": 14,
   "id": "afc932b0-8a36-4b8f-9f59-ca1d68c498ff",
   "metadata": {},
   "outputs": [],
   "source": [
    "num_triples, triples = load_data('./benchmarks/YAGO3-10/train2id.txt')"
   ]
  },
  {
   "cell_type": "code",
   "execution_count": 15,
   "id": "4d372699-c612-4211-b96d-3decd821233d",
   "metadata": {},
   "outputs": [],
   "source": [
    "entity_embeddings = Model['ent_embeddings.weight'].cpu().numpy()"
   ]
  },
  {
   "cell_type": "code",
   "execution_count": 16,
   "id": "598f5c3e-22c9-4b8f-aca6-16a4998baa2c",
   "metadata": {},
   "outputs": [
    {
     "data": {
      "text/plain": [
       "array([[ 4.7181922e-05, -2.2296542e-03, -1.7223832e-05, ...,\n",
       "        -5.6881743e-04,  1.3770815e-04, -1.2484995e-03],\n",
       "       [ 3.0601765e-03,  6.2708007e-03,  3.0478914e-03, ...,\n",
       "         3.5679366e-03,  7.1930122e-03,  7.5934585e-03],\n",
       "       [-3.5972617e-04,  2.9162262e-05,  5.9462618e-03, ...,\n",
       "        -5.5360650e-03,  9.3292827e-03,  2.1836822e-04],\n",
       "       ...,\n",
       "       [-2.1863831e-03,  2.3102555e-03, -4.5021521e-03, ...,\n",
       "        -4.2678025e-03,  6.7811448e-04,  4.2009451e-03],\n",
       "       [-1.2137066e-04, -3.1710584e-03,  2.6538109e-03, ...,\n",
       "        -1.8675094e-03,  5.1895254e-03, -1.7089008e-03],\n",
       "       [ 1.0247482e-02,  8.0755707e-03,  1.1137070e-02, ...,\n",
       "        -3.0951395e-03, -5.7842578e-03,  1.0830284e-02]], dtype=float32)"
      ]
     },
     "execution_count": 16,
     "metadata": {},
     "output_type": "execute_result"
    }
   ],
   "source": [
    "entity_embeddings"
   ]
  },
  {
   "cell_type": "code",
   "execution_count": 17,
   "id": "ffc73333-a656-415f-a479-c11ddf542f7a",
   "metadata": {},
   "outputs": [],
   "source": [
    "kmeans = KMeans(n_clusters=10, random_state=0).fit(entity_embeddings)"
   ]
  },
  {
   "cell_type": "code",
   "execution_count": 18,
   "id": "9ddc5781-1415-4349-8c1d-b375fd58ba5b",
   "metadata": {},
   "outputs": [],
   "source": [
    "labels = kmeans.labels_"
   ]
  },
  {
   "cell_type": "code",
   "execution_count": 19,
   "id": "e81f8cb6-8685-4e05-8f2e-c0f089a55a65",
   "metadata": {},
   "outputs": [
    {
     "data": {
      "text/plain": [
       "(123182,)"
      ]
     },
     "execution_count": 19,
     "metadata": {},
     "output_type": "execute_result"
    }
   ],
   "source": [
    "labels.shape"
   ]
  },
  {
   "cell_type": "code",
   "execution_count": 20,
   "id": "71c0ca20-dc2e-41b7-a550-d30bd107e061",
   "metadata": {},
   "outputs": [],
   "source": [
    "from collections import Counter\n",
    "label_counts = Counter(labels)"
   ]
  },
  {
   "cell_type": "code",
   "execution_count": 21,
   "id": "b05e3084-f328-4067-b14d-d95e90e55d43",
   "metadata": {},
   "outputs": [
    {
     "name": "stdout",
     "output_type": "stream",
     "text": [
      "Label frequencies:\n",
      "The Number of the class 0: 8867\n",
      "The Number of the class 6: 19650\n",
      "The Number of the class 5: 8631\n",
      "The Number of the class 2: 26750\n",
      "The Number of the class 3: 24231\n",
      "The Number of the class 1: 7844\n",
      "The Number of the class 8: 11272\n",
      "The Number of the class 4: 8261\n",
      "The Number of the class 7: 7675\n",
      "The Number of the class 9: 1\n"
     ]
    }
   ],
   "source": [
    "print(\"Label frequencies:\")\n",
    "for label, count in label_counts.items():\n",
    "    print(f\"The Number of the class {label}: {count}\")"
   ]
  },
  {
   "cell_type": "code",
   "execution_count": null,
   "id": "bf139243-8160-49cd-bafe-2e9f54fdb73d",
   "metadata": {},
   "outputs": [],
   "source": [
    "with open('node_clusters.txt', 'w') as file:\n",
    "    for index, label in enumerate(labels):\n",
    "        file.write(f\"{index}\\t{label}\\n\")"
   ]
  },
  {
   "cell_type": "code",
   "execution_count": null,
   "id": "237f2cba-4967-4ed7-b332-e4c5a314ca3f",
   "metadata": {},
   "outputs": [],
   "source": []
  },
  {
   "cell_type": "code",
   "execution_count": null,
   "id": "5404bf66-4471-4f3d-bcca-ffecfeb2f89b",
   "metadata": {},
   "outputs": [],
   "source": []
  },
  {
   "cell_type": "code",
   "execution_count": 13,
   "id": "23a307b8-6a9f-4b96-b920-1fe690801b3d",
   "metadata": {},
   "outputs": [
    {
     "data": {
      "image/png": "[encoded data removed]",
      "text/plain": [
       "<Figure size 720x432 with 1 Axes>"
      ]
     },
     "metadata": {
      "needs_background": "light"
     },
     "output_type": "display_data"
    }
   ],
   "source": [
    "elbow_method(entity_embeddings, max_k)"
   ]
  },
  {
   "cell_type": "code",
   "execution_count": null,
   "id": "d3c7aa95-80e9-4533-a11f-5baa336e8c0d",
   "metadata": {},
   "outputs": [],
   "source": []
  }
 ],
 "metadata": {
  "kernelspec": {
   "display_name": "xy_gradesign",
   "language": "python",
   "name": "xy_gradesign"
  },
  "language_info": {
   "codemirror_mode": {
    "name": "ipython",
    "version": 3
   },
   "file_extension": ".py",
   "mimetype": "text/x-python",
   "name": "python",
   "nbconvert_exporter": "python",
   "pygments_lexer": "ipython3",
   "version": "3.6.13"
  }
 },
 "nbformat": 4,
 "nbformat_minor": 5
}
