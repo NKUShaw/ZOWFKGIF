{
 "cells": [
  {
   "cell_type": "code",
   "execution_count": 1,
   "id": "4c4438e9-50ce-4712-8818-c9295900cff0",
   "metadata": {},
   "outputs": [],
   "source": [
    "import openke\n",
    "import torch\n",
    "import torch.autograd\n",
    "import time\n",
    "import random\n",
    "from openke.config import Trainer, Tester\n",
    "from openke.module.model import TransE\n",
    "from openke.module.loss import MarginLoss\n",
    "from openke.module.strategy import NegativeSampling\n",
    "from openke.data import TrainDataLoader, TestDataLoader"
   ]
  },
  {
   "cell_type": "code",
   "execution_count": 127,
   "id": "97295b22-d930-416f-9ef0-ab41db00c234",
   "metadata": {},
   "outputs": [],
   "source": [
    "def filter_triples(input_entity_file, input_triple_file, output_triple_file, remove_num=500):\n",
    "    with open(input_entity_file, 'r') as f:\n",
    "        total_entities = int(f.readline().strip())\n",
    "\n",
    "    selected_indices = set(random.sample(range(total_entities), remove_num))\n",
    "\n",
    "    with open(input_triple_file, 'r') as f:\n",
    "        lines = f.readlines()\n",
    "\n",
    "    header = lines[0]  \n",
    "    triples = lines[1:]  \n",
    "\n",
    "    filtered_triples = []\n",
    "    for triple in triples:\n",
    "        h, t, r = map(int, triple.split())\n",
    "        if h not in selected_indices and t not in selected_indices:\n",
    "            filtered_triples.append(triple)\n",
    "\n",
    "    with open(output_triple_file, 'w') as f:\n",
    "        f.write(str(len(filtered_triples)) + '\\n') \n",
    "        f.writelines(filtered_triples)  \n",
    "\n",
    "def filter_relations(input_relation_file, input_type_file, input_triple_file, output_triple_file, remove_num=5):\n",
    "    # 读取关系文件以获取关系总数\n",
    "    with open(input_relation_file, 'r') as f:\n",
    "        f.readline()  # Skip the first line which contains the total number of relations\n",
    "        relations = [line.split()[-1] for line in f]  # Assume relation ID is the second column\n",
    "\n",
    "    # 随机选择要删除的关系\n",
    "    selected_relations = set(random.sample(relations, remove_num))\n",
    "\n",
    "    # 读取三元组文件，并过滤掉包含选定关系的三元组\n",
    "    with open(input_triple_file, 'r') as f:\n",
    "        lines = f.readlines()\n",
    "\n",
    "    header = lines[0]  # Header with the total count of triples, which we ignore\n",
    "    triples = lines[1:]  # Actual triples start from the second line\n",
    "\n",
    "    filtered_triples = []\n",
    "    for triple in triples:\n",
    "        _, r, _ = triple.split()\n",
    "        if r not in selected_relations:\n",
    "            filtered_triples.append(triple)\n",
    "\n",
    "    # 将过滤后的三元组写入输出文件\n",
    "    with open(output_triple_file, 'w') as f:\n",
    "        f.write(str(len(filtered_triples)) + '\\n')  # Write the count of remaining triples\n",
    "        f.writelines(filtered_triples)  # Write the triples\n",
    "        \n",
    "\n",
    "def calculate_gradients(model, data):\n",
    "    model.eval()  \n",
    "\n",
    "    loss = model.model({\n",
    "        'batch_h': torch.autograd.Variable(torch.from_numpy(data['batch_h']).cuda()),\n",
    "        'batch_t': torch.autograd.Variable(torch.from_numpy(data['batch_t']).cuda()),\n",
    "        'batch_r': torch.autograd.Variable(torch.from_numpy(data['batch_r']).cuda()),\n",
    "        'batch_y': torch.autograd.Variable(torch.from_numpy(data['batch_y']).cuda()),\n",
    "        'mode': data['mode']\n",
    "    })\n",
    "    loss_scalar = torch.mean(loss)\n",
    "    params = filter(lambda p: p.requires_grad, model.parameters())\n",
    "    params_to_update = [param for name, param in model.named_parameters() if name.endswith('.weight')]\n",
    "    return torch.autograd.grad(loss_scalar, params_to_update, create_graph=True)\n",
    "\n",
    "def hvps(grad_all, model_params, h_estimate):\n",
    "    element_product = 0\n",
    "    for grad_elem, v_elem in zip(grad_all, h_estimate):\n",
    "        element_product += torch.sum(grad_elem * v_elem)\n",
    "    return_grads = torch.autograd.grad(element_product, model_params, create_graph=True)\n",
    "    \n",
    "    return return_grads\n",
    "    \n",
    "def GIF_unleanring(model, train_dataloader, test_dataloader, iteration=1, damp=0.0, scale=50):\n",
    "    start_time = time.time()\n",
    "\n",
    "    for data in train_dataloader:\n",
    "        grad_full = calculate_gradients(model, data)\n",
    "\n",
    "    for data in test_dataloader:\n",
    "        grad_removed = calculate_gradients(model, data)\n",
    "\n",
    "    grad1 = [g1 - g2 for g1, g2 in zip(grad_full, grad_removed)]\n",
    "    grad2 = grad_removed\n",
    "    res_tuple = (grad_full, grad1, grad2)\n",
    "\n",
    "    v = tuple(grad1 - grad2 for grad1, grad2 in zip(res_tuple[1], res_tuple[2]))\n",
    "    h_estimate = tuple(grad1 - grad2 for grad1, grad2 in zip(res_tuple[1], res_tuple[2]))\n",
    "    \n",
    "    for _ in range(iteration):\n",
    "        model_params  = [p for p in model.parameters() if p.requires_grad]\n",
    "        hv = hvps(res_tuple[0], model_params, h_estimate)\n",
    "        with torch.no_grad():\n",
    "            h_estimate = [ v1 + (1-damp)*h_estimate1 - hv1/scale for v1, h_estimate1, hv1 in zip(v, h_estimate, hv)]\n",
    "            \n",
    "    params_change = [h_est / scale for h_est in h_estimate]\n",
    "    params_esti   = [p1 + p2 for p1, p2 in zip(params_change, model_params)]\n",
    "\n",
    "    print(time.time() - start_time)\n",
    "    \n",
    "    return params_esti\n",
    "\n",
    "def update_and_save_checkpoint(checkpoint_path, new_checkpoint_path, new_params):\n",
    "    weights = torch.load(checkpoint_path)\n",
    "    weights['ent_embeddings.weight'] = new_params[0]\n",
    "    weights['rel_embeddings.weight'] = new_params[1]\n",
    "    torch.save(weights, new_checkpoint_path)\n",
    "    print(f\"Updated checkpoint saved to {new_checkpoint_path}\")"
   ]
  },
  {
   "cell_type": "code",
   "execution_count": 128,
   "id": "9a7f9bed-ccf0-4b53-bbf8-b3df8d50fd1e",
   "metadata": {},
   "outputs": [],
   "source": [
    "# removed_entities = 3000\n",
    "# removed_files = f'./benchmarks/FB15K237/removed_{removed_entities}_train2id.txt'\n",
    "# filter_triples('./benchmarks/FB15K237/entity2id.txt', './benchmarks/FB15K237/train2id.txt', removed_files, removed_entities)"
   ]
  },
  {
   "cell_type": "code",
   "execution_count": 129,
   "id": "69fd059b-6b8b-419b-84b3-5379ebf9efc9",
   "metadata": {},
   "outputs": [],
   "source": [
    "removed_relations = 50\n",
    "removed_files = f'./benchmarks/FB15K237/removed_{removed_relations}_train2id.txt'\n",
    "filter_relations(input_relation_file='./benchmarks/FB15K237/relation2id.txt', input_triple_file='./benchmarks/FB15K237/train2id.txt',\n",
    "                 output_triple_file = removed_files, remove_num=removed_relations)"
   ]
  },
  {
   "cell_type": "code",
   "execution_count": 130,
   "id": "81ac952e-a3c4-4832-9536-4d14546c4b8a",
   "metadata": {},
   "outputs": [
    {
     "name": "stdout",
     "output_type": "stream",
     "text": [
      "Training Files Path : ./benchmarks/FB15K237/removed_50_train2id.txt\n",
      "Entity Files Path : ./benchmarks/FB15K237/entity2id.txt\n",
      "Relation Files Path : ./benchmarks/FB15K237/relation2id.txt\n",
      "The toolkit is importing datasets.\n",
      "The total of relations is 237.\n",
      "The total of entities is 14541.\n",
      "The total of train triples is 258816.\n"
     ]
    }
   ],
   "source": [
    "retrain_dataloader = TrainDataLoader(\n",
    "\tin_path = None, \n",
    "    tri_file = removed_files,\n",
    "    ent_file = \"./benchmarks/FB15K237/entity2id.txt\",\n",
    "    rel_file = \"./benchmarks/FB15K237/relation2id.txt\",\n",
    "\tnbatches = 100,\n",
    "\tthreads = 8, \n",
    "\tsampling_mode = \"normal\", \n",
    "\tbern_flag = 1, \n",
    "\tfilter_flag = 1, \n",
    "\tneg_ent = 25,\n",
    "\tneg_rel = 0)"
   ]
  },
  {
   "cell_type": "code",
   "execution_count": 119,
   "id": "f3e9b8fc-0ddc-4939-8ec3-b6adb3eda90b",
   "metadata": {},
   "outputs": [
    {
     "name": "stdout",
     "output_type": "stream",
     "text": [
      "Input Files Path : ./benchmarks/FB15K237/\n",
      "The total of test triples is 20466.\n",
      "The total of valid triples is 17535.\n"
     ]
    }
   ],
   "source": [
    "test_dataloader = TestDataLoader(\"./benchmarks/FB15K237/\", \"link\")"
   ]
  },
  {
   "cell_type": "code",
   "execution_count": 105,
   "id": "58c5fa4e-013a-48ef-a9f3-2a7204634fd7",
   "metadata": {},
   "outputs": [],
   "source": [
    "retrain_transe = TransE(\n",
    "\tent_tot = retrain_dataloader.get_ent_tot(),\n",
    "\trel_tot = retrain_dataloader.get_rel_tot(),\n",
    "\tdim = 200, \n",
    "\tp_norm = 1, \n",
    "\tnorm_flag = True)"
   ]
  },
  {
   "cell_type": "code",
   "execution_count": 106,
   "id": "f455bb76-b29f-4aa1-bbca-eb0cd3bb960e",
   "metadata": {},
   "outputs": [],
   "source": [
    "retrain_model = NegativeSampling(\n",
    "\tmodel = retrain_transe, \n",
    "\tloss = MarginLoss(margin = 5.0),\n",
    "\tbatch_size = retrain_dataloader.get_batch_size()\n",
    ")"
   ]
  },
  {
   "cell_type": "code",
   "execution_count": 107,
   "id": "ba70197e-9496-47ae-8009-8f860374967e",
   "metadata": {},
   "outputs": [
    {
     "name": "stdout",
     "output_type": "stream",
     "text": [
      "Finish initializing...\n"
     ]
    },
    {
     "name": "stderr",
     "output_type": "stream",
     "text": [
      "Epoch 999 | loss: 2.365449: 100%|███████████████████████████████████████████████████| 1000/1000 [17:00<00:00,  1.02s/it]\n"
     ]
    }
   ],
   "source": [
    "retrain_trainer = Trainer(model = retrain_model, data_loader = retrain_dataloader, train_times = 1000, alpha = 1.0, use_gpu = True)\n",
    "retrain_trainer.run()\n",
    "retrain_transe.save_checkpoint(f'./checkpoint/retrain_{removed_relations}_transe.ckpt')"
   ]
  },
  {
   "cell_type": "code",
   "execution_count": 108,
   "id": "7fc2ea1a-cde6-44a6-8e7b-ef302d2393a0",
   "metadata": {},
   "outputs": [
    {
     "name": "stderr",
     "output_type": "stream",
     "text": [
      "100%|███████████████████████████████████████████████████████████████████████████| 20466/20466 [00:16<00:00, 1226.95it/s]"
     ]
    },
    {
     "name": "stdout",
     "output_type": "stream",
     "text": [
      "0.4750317335128784\n"
     ]
    },
    {
     "name": "stderr",
     "output_type": "stream",
     "text": [
      "\n"
     ]
    },
    {
     "data": {
      "text/plain": [
       "(0.28603631258010864,\n",
       " 227.21011352539062,\n",
       " 0.4750317335128784,\n",
       " 0.3225349187850952,\n",
       " 0.19041337072849274)"
      ]
     },
     "execution_count": 108,
     "metadata": {},
     "output_type": "execute_result"
    }
   ],
   "source": [
    "retrain_transe.load_checkpoint(f'./checkpoint/retrain_{removed_relations}_transe.ckpt')\n",
    "retrain_tester = Tester(model = retrain_transe, data_loader = test_dataloader, use_gpu = True)\n",
    "retrain_tester.run_link_prediction(type_constrain = False)"
   ]
  },
  {
   "cell_type": "code",
   "execution_count": 109,
   "id": "db0985b2-e920-46a5-8ef6-c3f7eea29225",
   "metadata": {},
   "outputs": [
    {
     "name": "stdout",
     "output_type": "stream",
     "text": [
      "no type constraint results:\n",
      "metric:\t\t\t MRR \t\t MR \t\t hit@10 \t hit@3  \t hit@1 \n",
      "l(raw):\t\t\t 0.088172 \t 566.850403 \t 0.204192 \t 0.084286 \t 0.033030 \n",
      "r(raw):\t\t\t 0.249192 \t 168.386154 \t 0.439509 \t 0.271328 \t 0.156650 \n",
      "averaged(raw):\t\t 0.168682 \t 367.618286 \t 0.321851 \t 0.177807 \t 0.094840 \n",
      "\n",
      "l(filter):\t\t 0.188467 \t 311.960815 \t 0.357129 \t 0.210349 \t 0.105052 \n",
      "r(filter):\t\t 0.383606 \t 142.459396 \t 0.592935 \t 0.434721 \t 0.275774 \n",
      "averaged(filter):\t 0.286036 \t 227.210114 \t 0.475032 \t 0.322535 \t 0.190413 \n",
      "0.475032\n",
      "Training Files Path : ./benchmarks/FB15K237/train2id.txt\n",
      "Entity Files Path : ./benchmarks/FB15K237/entity2id.txt\n",
      "Relation Files Path : ./benchmarks/FB15K237/relation2id.txt\n",
      "The toolkit is importing datasets.\n",
      "The total of relations is 237.\n",
      "The total of entities is 14541.\n",
      "----------------------------------------------------------------------\n",
      "The total of train triples is 272115.\n",
      "Training Files Path : ./benchmarks/FB15K237/removed_10_train2id.txt\n",
      "Entity Files Path : ./benchmarks/FB15K237/entity2id.txt\n",
      "Relation Files Path : ./benchmarks/FB15K237/relation2id.txt\n",
      "The toolkit is importing datasets.\n",
      "The total of relations is 237.\n",
      "The total of entities is 14541.\n"
     ]
    }
   ],
   "source": [
    "train_dataloader = TrainDataLoader(\n",
    "\tin_path = None, \n",
    "    tri_file = \"./benchmarks/FB15K237/train2id.txt\",\n",
    "    ent_file = \"./benchmarks/FB15K237/entity2id.txt\",\n",
    "    rel_file = \"./benchmarks/FB15K237/relation2id.txt\",\n",
    "\tnbatches = 100,\n",
    "\tthreads = 8, \n",
    "\tsampling_mode = \"normal\", \n",
    "\tbern_flag = 1, \n",
    "\tfilter_flag = 1, \n",
    "\tneg_ent = 25,\n",
    "\tneg_rel = 0)\n",
    "print('----------------------------------------------------------------------')\n",
    "retrain_dataloader = TrainDataLoader(\n",
    "\tin_path = None, \n",
    "    tri_file = removed_files,\n",
    "    ent_file = \"./benchmarks/FB15K237/entity2id.txt\",\n",
    "    rel_file = \"./benchmarks/FB15K237/relation2id.txt\",\n",
    "\tnbatches = 100,\n",
    "\tthreads = 8, \n",
    "\tsampling_mode = \"normal\", \n",
    "\tbern_flag = 1, \n",
    "\tfilter_flag = 1, \n",
    "\tneg_ent = 25,\n",
    "\tneg_rel = 0)"
   ]
  },
  {
   "cell_type": "code",
   "execution_count": 110,
   "id": "b05f028b-ecd0-4be9-a959-1914d3eb58d9",
   "metadata": {},
   "outputs": [
    {
     "name": "stdout",
     "output_type": "stream",
     "text": [
      "The total of train triples is 270934.\n"
     ]
    }
   ],
   "source": [
    "model = TransE(\n",
    "\tent_tot = train_dataloader.get_ent_tot(),\n",
    "\trel_tot = train_dataloader.get_rel_tot(),\n",
    "\tdim = 200, \n",
    "\tp_norm = 1, \n",
    "\tnorm_flag = True)\n",
    "model.to('cuda')\n",
    "model.load_checkpoint('./checkpoint/transe.ckpt')\n",
    "model = NegativeSampling(\n",
    "\tmodel = model, \n",
    "\tloss = MarginLoss(margin = 5.0),\n",
    "\tbatch_size = train_dataloader.get_batch_size()\n",
    ")"
   ]
  },
  {
   "cell_type": "code",
   "execution_count": 114,
   "id": "c4a92b05-fc52-4993-8522-1a1bbbf525a6",
   "metadata": {},
   "outputs": [
    {
     "name": "stdout",
     "output_type": "stream",
     "text": [
      "3.6354987621307373\n"
     ]
    }
   ],
   "source": [
    "params_esti = GIF_unleanring(model, train_dataloader, retrain_dataloader, iteration=100, damp=0.0, scale=50)"
   ]
  },
  {
   "cell_type": "code",
   "execution_count": 115,
   "id": "c1de7653-df1d-4873-b973-099dc724e531",
   "metadata": {},
   "outputs": [
    {
     "name": "stdout",
     "output_type": "stream",
     "text": [
      "Updated checkpoint saved to ./checkpoint/GIF_10_TransE.ckpt\n"
     ]
    }
   ],
   "source": [
    "update_and_save_checkpoint(checkpoint_path='./checkpoint/transe.ckpt', \n",
    "                           new_checkpoint_path=f'./checkpoint/GIF_{removed_relations}_TransE.ckpt', \n",
    "                           new_params=params_esti)"
   ]
  },
  {
   "cell_type": "code",
   "execution_count": 116,
   "id": "eb42504b-6393-49e8-a31f-db6f70565ea7",
   "metadata": {},
   "outputs": [
    {
     "name": "stdout",
     "output_type": "stream",
     "text": [
      "Input Files Path : ./benchmarks/FB15K237/\n",
      "The total of test triples is 20466.\n",
      "The total of valid triples is 17535.\n"
     ]
    },
    {
     "name": "stderr",
     "output_type": "stream",
     "text": [
      "100%|███████████████████████████████████████████████████████████████████████████| 20466/20466 [00:16<00:00, 1215.12it/s]"
     ]
    },
    {
     "name": "stdout",
     "output_type": "stream",
     "text": [
      "0.47078078985214233\n"
     ]
    },
    {
     "name": "stderr",
     "output_type": "stream",
     "text": [
      "\n"
     ]
    },
    {
     "data": {
      "text/plain": [
       "(0.27326950430870056,\n",
       " 231.47970581054688,\n",
       " 0.47078078985214233,\n",
       " 0.3112967610359192,\n",
       " 0.17475324869155884)"
      ]
     },
     "execution_count": 116,
     "metadata": {},
     "output_type": "execute_result"
    },
    {
     "name": "stdout",
     "output_type": "stream",
     "text": [
      "no type constraint results:\n",
      "metric:\t\t\t MRR \t\t MR \t\t hit@10 \t hit@3  \t hit@1 \n",
      "l(raw):\t\t\t 0.088247 \t 569.296326 \t 0.206049 \t 0.086680 \t 0.032200 \n",
      "r(raw):\t\t\t 0.247412 \t 167.087662 \t 0.436871 \t 0.269032 \t 0.155135 \n",
      "averaged(raw):\t\t 0.167830 \t 368.191986 \t 0.321460 \t 0.177856 \t 0.093668 \n",
      "\n",
      "l(filter):\t\t 0.184681 \t 321.508118 \t 0.352731 \t 0.207564 \t 0.101437 \n",
      "r(filter):\t\t 0.361858 \t 141.451279 \t 0.588830 \t 0.415030 \t 0.248070 \n",
      "averaged(filter):\t 0.273270 \t 231.479706 \t 0.470781 \t 0.311297 \t 0.174753 \n",
      "0.470781\n"
     ]
    }
   ],
   "source": [
    "# dataloader for test\n",
    "test_dataloader = TestDataLoader(\"./benchmarks/FB15K237/\", \"link\")\n",
    "\n",
    "# define the model\n",
    "unlearn_transe = TransE(\n",
    "\tent_tot = train_dataloader.get_ent_tot(),\n",
    "\trel_tot = train_dataloader.get_rel_tot(),\n",
    "\tdim = 200, \n",
    "\tp_norm = 1, \n",
    "\tnorm_flag = True)\n",
    "\n",
    "# test the model\n",
    "unlearn_transe.load_checkpoint(f'./checkpoint/GIF_{removed_entities}_TransE.ckpt')\n",
    "unlearn_tester = Tester(model = unlearn_transe, data_loader = test_dataloader, use_gpu = True)\n",
    "unlearn_tester.run_link_prediction(type_constrain = False)"
   ]
  },
  {
   "cell_type": "code",
   "execution_count": null,
   "id": "208f579c-db1a-4aca-8a97-437713a2fa2a",
   "metadata": {},
   "outputs": [],
   "source": []
  }
 ],
 "metadata": {
  "kernelspec": {
   "display_name": "Py38",
   "language": "python",
   "name": "xy_py38"
  },
  "language_info": {
   "codemirror_mode": {
    "name": "ipython",
    "version": 3
   },
   "file_extension": ".py",
   "mimetype": "text/x-python",
   "name": "python",
   "nbconvert_exporter": "python",
   "pygments_lexer": "ipython3",
   "version": "3.8.18"
  }
 },
 "nbformat": 4,
 "nbformat_minor": 5
}
