{
 "cells": [
  {
   "cell_type": "code",
   "execution_count": 1,
   "id": "27f4a615-93e6-4ca2-8a81-af0cfc0f4834",
   "metadata": {},
   "outputs": [],
   "source": [
    "import numpy as np\n",
    "import time\n",
    "import random"
   ]
  },
  {
   "cell_type": "code",
   "execution_count": 2,
   "id": "ab8d4d1c-ff22-4eb0-a1f9-9f5363239b1a",
   "metadata": {},
   "outputs": [],
   "source": [
    "def load_data(file_path):\n",
    "    with open(file_path, 'r') as f:\n",
    "        lines = f.readlines()\n",
    "    num_triples = int(lines[0].strip())\n",
    "    triples = np.array([list(map(int, line.strip().split())) for line in lines[1:]])\n",
    "    return num_triples, triples\n",
    "\n",
    "def find_subgraph(triples, query_triple):\n",
    "    start_time = time.time()\n",
    "    e1, e4, r1 = query_triple\n",
    "    \n",
    "    # 构建邻接表，避免重复边\n",
    "    adj_list = {}\n",
    "    for h, t, r in triples:\n",
    "        if h not in adj_list:\n",
    "            adj_list[h] = {}\n",
    "        if t not in adj_list:\n",
    "            adj_list[t] = {}\n",
    "        adj_list[h][t] = r\n",
    "        adj_list[t][h] = r\n",
    "\n",
    "    # 找到与e1相关的所有节点\n",
    "    e1_neighbors = list(adj_list.get(e1, {}).items())\n",
    "    random.shuffle(e1_neighbors)\n",
    "    \n",
    "    for e2, r2 in e1_neighbors:\n",
    "        if e2 == e4 and r2 == r1:\n",
    "            continue\n",
    "\n",
    "        e2_neighbors = list(adj_list.get(e2, {}).items())\n",
    "        random.shuffle(e2_neighbors)\n",
    "        for e3, r3 in e2_neighbors:\n",
    "            if e3 in [e1, e2, e4] or (e3 == e2 and r3 == r2) or (e3 == e1 and r3 == r1):\n",
    "                continue\n",
    "\n",
    "            e3_neighbors = list(adj_list.get(e3, {}).items())\n",
    "            random.shuffle(e3_neighbors)\n",
    "            for e, r4 in e3_neighbors:\n",
    "                if e == e4:\n",
    "                    query_subgraph = [(e1, e4, r1), (e1, e2, r2), (e2, e3, r3), (e3, e4, r4)]\n",
    "                    print(f'寻找query subgraph耗时:{time.time() - start_time}秒')\n",
    "                    return query_subgraph\n",
    "                        \n",
    "                    \n",
    "                "
   ]
  },
  {
   "cell_type": "code",
   "execution_count": 4,
   "id": "113c6343-0246-47f9-9b97-fecf23e8ee3b",
   "metadata": {},
   "outputs": [
    {
     "name": "stdout",
     "output_type": "stream",
     "text": [
      "寻找query subgraph耗时:1.4283218383789062秒\n",
      "[(88556, 231, 33), (88556, 56095, 9), (56095, 71052, 9), (71052, 231, 9)]\n"
     ]
    }
   ],
   "source": [
    "# 测试\n",
    "num_triples, triples = load_data('./benchmarks/YAGO3-10/train2id.txt')\n",
    "target_triple = (88556, 231, 33) \n",
    "query_subgraph = find_subgraph(triples, target_triple)\n",
    "if query_subgraph:\n",
    "    print(query_subgraph)\n",
    "else:\n",
    "    print(\"未找到符合条件的子图\")"
   ]
  },
  {
   "cell_type": "code",
   "execution_count": null,
   "id": "d2cd92bf-f2e5-48f7-9a60-fc8a644a09a9",
   "metadata": {},
   "outputs": [],
   "source": [
    "def find_mapping_triple(triples, traget_triple, max_num):\n",
    "    target_relation = target_triple[2]\n",
    "    selected_triples = []\n",
    "    for triple in triples:\n",
    "        if triple[2] == target_relation:\n",
    "            selected_triples.append(triple)\n",
    "            if len(selected_triples) == max_num:\n",
    "                break\n",
    "    return selected_triples"
   ]
  },
  {
   "cell_type": "code",
   "execution_count": null,
   "id": "9e1ec500-02ee-4b7a-a8c5-ffd19b7e418c",
   "metadata": {},
   "outputs": [],
   "source": []
  }
 ],
 "metadata": {
  "kernelspec": {
   "display_name": "Py38",
   "language": "python",
   "name": "xy_py38"
  },
  "language_info": {
   "codemirror_mode": {
    "name": "ipython",
    "version": 3
   },
   "file_extension": ".py",
   "mimetype": "text/x-python",
   "name": "python",
   "nbconvert_exporter": "python",
   "pygments_lexer": "ipython3",
   "version": "3.8.18"
  }
 },
 "nbformat": 4,
 "nbformat_minor": 5
}
