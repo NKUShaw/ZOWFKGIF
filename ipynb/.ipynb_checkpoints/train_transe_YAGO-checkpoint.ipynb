{
 "cells": [
  {
   "cell_type": "code",
   "execution_count": 11,
   "id": "bbb178d7-3005-49f3-a6db-c0a1a4fa0ec4",
   "metadata": {},
   "outputs": [],
   "source": [
    "import openke\n",
    "from openke.config import Trainer, Tester\n",
    "from openke.module.model import TransE\n",
    "from openke.module.loss import MarginLoss\n",
    "from openke.module.strategy import NegativeSampling\n",
    "from openke.data import TrainDataLoader, TestDataLoader\n",
    "import torch"
   ]
  },
  {
   "cell_type": "code",
   "execution_count": 2,
   "id": "4a67cd7c-c456-47df-b305-60cde62f8176",
   "metadata": {},
   "outputs": [],
   "source": [
    "# dataloader for training\n",
    "train_dataloader = TrainDataLoader(\n",
    "\tin_path = \"./benchmarks/YAGO3-10/\", \n",
    "\tnbatches = 100,\n",
    "\tthreads = 8, \n",
    "\tsampling_mode = \"normal\", \n",
    "\tbern_flag = 1, \n",
    "\tfilter_flag = 1, \n",
    "\tneg_ent = 25,\n",
    "\tneg_rel = 0)"
   ]
  },
  {
   "cell_type": "code",
   "execution_count": 3,
   "id": "eaabc75f-e3b8-441f-89d7-32f1c15ea38a",
   "metadata": {},
   "outputs": [],
   "source": [
    "# dataloader for test\n",
    "test_dataloader = TestDataLoader(\"./benchmarks/YAGO3-10/\", \"link\")"
   ]
  },
  {
   "cell_type": "code",
   "execution_count": 4,
   "id": "add80a21-d902-4c5e-a393-ece8fea1c649",
   "metadata": {},
   "outputs": [],
   "source": [
    "transe = TransE(\n",
    "\tent_tot = train_dataloader.get_ent_tot(),\n",
    "\trel_tot = train_dataloader.get_rel_tot(),\n",
    "\tdim = 200, \n",
    "\tp_norm = 1, \n",
    "\tnorm_flag = True)"
   ]
  },
  {
   "cell_type": "code",
   "execution_count": 17,
   "id": "1f88282d-fc81-4c3a-bdc6-15b6126171a7",
   "metadata": {},
   "outputs": [
    {
     "ename": "IndentationError",
     "evalue": "unindent does not match any outer indentation level (<tokenize>, line 6)",
     "output_type": "error",
     "traceback": [
      "\u001b[0;36m  File \u001b[0;32m<tokenize>:6\u001b[0;36m\u001b[0m\n\u001b[0;31m    mode = data['mode']\u001b[0m\n\u001b[0m    ^\u001b[0m\n\u001b[0;31mIndentationError\u001b[0m\u001b[0;31m:\u001b[0m unindent does not match any outer indentation level\n"
     ]
    }
   ],
   "source": [
    "n = 0\n",
    "for data in train_dataloader:\n",
    "    batch_h = data['batch_h']\n",
    "    batch_t = data['batch_t']\n",
    "    batch_r = data['batch_r']\n",
    "    mode = data['mode']\n",
    "    h = transe.ent_embeddings(batch_h)\n",
    "    t = transe.ent_embeddings(batch_t)\n",
    "    r = transe.rel_embeddings(batch_r)\n",
    "    regul = (torch.mean(h ** 2) + \n",
    "         torch.mean(t ** 2) + \n",
    "         torch.mean(r ** 2)) / 3\n",
    "    n = n + 1\n",
    "    if n == 1:\n",
    "        break"
   ]
  },
  {
   "cell_type": "code",
   "execution_count": 8,
   "id": "852c9fd2-3bd7-42d3-80df-1cf5753758a9",
   "metadata": {},
   "outputs": [
    {
     "ename": "TypeError",
     "evalue": "tuple indices must be integers or slices, not str",
     "output_type": "error",
     "traceback": [
      "\u001b[0;31m---------------------------------------------------------------------------\u001b[0m",
      "\u001b[0;31mTypeError\u001b[0m                                 Traceback (most recent call last)",
      "Cell \u001b[0;32mIn[8], line 1\u001b[0m\n\u001b[0;32m----> 1\u001b[0m x \u001b[38;5;241m=\u001b[39m \u001b[43mtranse\u001b[49m\u001b[38;5;241;43m.\u001b[39;49m\u001b[43mregularization\u001b[49m\u001b[43m(\u001b[49m\u001b[43mtarget_triple\u001b[49m\u001b[43m)\u001b[49m\n",
      "File \u001b[0;32m~/ML/xiaoyang/EMNLP2024/openKE/OpenKE/openke/module/model/TransE.py:78\u001b[0m, in \u001b[0;36mTransE.regularization\u001b[0;34m(self, data)\u001b[0m\n\u001b[1;32m     77\u001b[0m \u001b[38;5;28;01mdef\u001b[39;00m \u001b[38;5;21mregularization\u001b[39m(\u001b[38;5;28mself\u001b[39m, data):\n\u001b[0;32m---> 78\u001b[0m \tbatch_h \u001b[38;5;241m=\u001b[39m \u001b[43mdata\u001b[49m\u001b[43m[\u001b[49m\u001b[38;5;124;43m'\u001b[39;49m\u001b[38;5;124;43mbatch_h\u001b[39;49m\u001b[38;5;124;43m'\u001b[39;49m\u001b[43m]\u001b[49m\n\u001b[1;32m     79\u001b[0m \tbatch_t \u001b[38;5;241m=\u001b[39m data[\u001b[38;5;124m'\u001b[39m\u001b[38;5;124mbatch_t\u001b[39m\u001b[38;5;124m'\u001b[39m]\n\u001b[1;32m     80\u001b[0m \tbatch_r \u001b[38;5;241m=\u001b[39m data[\u001b[38;5;124m'\u001b[39m\u001b[38;5;124mbatch_r\u001b[39m\u001b[38;5;124m'\u001b[39m]\n",
      "\u001b[0;31mTypeError\u001b[0m: tuple indices must be integers or slices, not str"
     ]
    }
   ],
   "source": []
  },
  {
   "cell_type": "code",
   "execution_count": 5,
   "id": "f79b28cf-6dd8-4cbb-bace-5d8eb3bb6f85",
   "metadata": {},
   "outputs": [],
   "source": [
    "# define the loss function\n",
    "model = NegativeSampling(\n",
    "\tmodel = transe, \n",
    "\tloss = MarginLoss(margin = 5.0),\n",
    "\tbatch_size = train_dataloader.get_batch_size()\n",
    ")"
   ]
  },
  {
   "cell_type": "code",
   "execution_count": null,
   "id": "70617909-eb03-45a3-96be-da1090587717",
   "metadata": {},
   "outputs": [
    {
     "name": "stdout",
     "output_type": "stream",
     "text": [
      "Finish initializing...\n"
     ]
    },
    {
     "name": "stderr",
     "output_type": "stream",
     "text": [
      "  0%|                                                                                          | 0/1000 [00:00<?, ?it/s]"
     ]
    },
    {
     "name": "stdout",
     "output_type": "stream",
     "text": [
      "Input Files Path : ./benchmarks/YAGO3-10/\n",
      "The toolkit is importing datasets.\n",
      "The total of relations is 37.\n",
      "The total of entities is 123182.\n",
      "The total of train triples is 1079040.\n",
      "Input Files Path : ./benchmarks/FB15K237/\n",
      "The total of test triples is 20466.\n",
      "The total of valid triples is 17535.\n",
      "Input Files Path : ./benchmarks/YAGO3-10/\n",
      "The total of test triples is 5000.\n",
      "The total of valid triples is 5000.\n"
     ]
    },
    {
     "name": "stderr",
     "output_type": "stream",
     "text": [
      "Epoch 73 | loss: 1.296135:   7%|███▊                                                | 74/1000 [06:01<1:15:20,  4.88s/it]"
     ]
    }
   ],
   "source": [
    "# train the model\n",
    "trainer = Trainer(model = model, data_loader = train_dataloader, train_times = 1000, alpha = 1.0, use_gpu = True)\n",
    "trainer.run()\n",
    "transe.save_checkpoint('./checkpoint/YAGO_TransE.ckpt')"
   ]
  },
  {
   "cell_type": "code",
   "execution_count": 6,
   "id": "51d78820-84bb-48d5-9641-8dd45a8935ba",
   "metadata": {},
   "outputs": [
    {
     "name": "stderr",
     "output_type": "stream",
     "text": [
      "  1%|▌                                                                               | 32/5000 [00:00<00:44, 111.81it/s]"
     ]
    },
    {
     "name": "stdout",
     "output_type": "stream",
     "text": [
      "Input Files Path : ./benchmarks/YAGO3-10/\n",
      "The toolkit is importing datasets.\n",
      "The total of relations is 37.\n",
      "The total of entities is 123182.\n",
      "The total of train triples is 1079040.\n",
      "Input Files Path : ./benchmarks/YAGO3-10/\n",
      "The total of test triples is 5000.\n",
      "The total of valid triples is 5000.\n"
     ]
    },
    {
     "name": "stderr",
     "output_type": "stream",
     "text": [
      "100%|██████████████████████████████████████████████████████████████████████████████| 5000/5000 [00:18<00:00, 273.82it/s]"
     ]
    },
    {
     "name": "stdout",
     "output_type": "stream",
     "text": [
      "0.5443000197410583\n"
     ]
    },
    {
     "name": "stderr",
     "output_type": "stream",
     "text": [
      "\n"
     ]
    },
    {
     "data": {
      "text/plain": [
       "(0.3315134644508362,\n",
       " 1476.792236328125,\n",
       " 0.5443000197410583,\n",
       " 0.388700008392334,\n",
       " 0.21889999508857727)"
      ]
     },
     "execution_count": 6,
     "metadata": {},
     "output_type": "execute_result"
    },
    {
     "name": "stdout",
     "output_type": "stream",
     "text": [
      "no type constraint results:\n",
      "metric:\t\t\t MRR \t\t MR \t\t hit@10 \t hit@3  \t hit@1 \n",
      "l(raw):\t\t\t 0.042049 \t 4617.669434 \t 0.106800 \t 0.032800 \t 0.008200 \n",
      "r(raw):\t\t\t 0.201719 \t 462.848999 \t 0.587400 \t 0.182200 \t 0.073000 \n",
      "averaged(raw):\t\t 0.121884 \t 2540.259277 \t 0.347100 \t 0.107500 \t 0.040600 \n",
      "\n",
      "l(filter):\t\t 0.183610 \t 2496.848877 \t 0.341000 \t 0.202000 \t 0.104800 \n",
      "r(filter):\t\t 0.479416 \t 456.735596 \t 0.747600 \t 0.575400 \t 0.333000 \n",
      "averaged(filter):\t 0.331513 \t 1476.792236 \t 0.544300 \t 0.388700 \t 0.218900 \n",
      "0.544300\n"
     ]
    }
   ],
   "source": [
    "# test the model\n",
    "transe.load_checkpoint('./checkpoint/YAGO_TransE.ckpt')\n",
    "tester = Tester(model = transe, data_loader = test_dataloader, use_gpu = True)\n",
    "tester.run_link_prediction(type_constrain = False)"
   ]
  },
  {
   "cell_type": "code",
   "execution_count": null,
   "id": "ce62043c-cd11-490b-a5cd-8366547df718",
   "metadata": {},
   "outputs": [],
   "source": []
  }
 ],
 "metadata": {
  "kernelspec": {
   "display_name": "Py38",
   "language": "python",
   "name": "xy_py38"
  },
  "language_info": {
   "codemirror_mode": {
    "name": "ipython",
    "version": 3
   },
   "file_extension": ".py",
   "mimetype": "text/x-python",
   "name": "python",
   "nbconvert_exporter": "python",
   "pygments_lexer": "ipython3",
   "version": "3.8.18"
  }
 },
 "nbformat": 4,
 "nbformat_minor": 5
}
