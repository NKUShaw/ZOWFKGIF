{
 "cells": [
  {
   "cell_type": "code",
   "execution_count": 1,
   "id": "27f4a615-93e6-4ca2-8a81-af0cfc0f4834",
   "metadata": {},
   "outputs": [],
   "source": [
    "import numpy as np\n",
    "import time\n",
    "import random"
   ]
  },
  {
   "cell_type": "code",
   "execution_count": 2,
   "id": "ab8d4d1c-ff22-4eb0-a1f9-9f5363239b1a",
   "metadata": {},
   "outputs": [],
   "source": [
    "def load_data(file_path):\n",
    "    with open(file_path, 'r') as f:\n",
    "        lines = f.readlines()\n",
    "    num_triples = int(lines[0].strip())\n",
    "    triples = np.array([list(map(int, line.strip().split())) for line in lines[1:]])\n",
    "    return num_triples, triples"
   ]
  },
  {
   "cell_type": "code",
   "execution_count": 4,
   "id": "113c6343-0246-47f9-9b97-fecf23e8ee3b",
   "metadata": {},
   "outputs": [
    {
     "name": "stdout",
     "output_type": "stream",
     "text": [
      "寻找query subgraph耗时:1.4283218383789062秒\n",
      "[(88556, 231, 33), (88556, 56095, 9), (56095, 71052, 9), (71052, 231, 9)]\n"
     ]
    }
   ],
   "source": [
    "num_triples, triples = load_data('./benchmarks/YAGO3-10/train2id.txt')"
   ]
  },
  {
   "cell_type": "code",
   "execution_count": null,
   "id": "b6601831-7d58-4bf4-8fa5-ce2f671a80f3",
   "metadata": {},
   "outputs": [],
   "source": []
  }
 ],
 "metadata": {
  "kernelspec": {
   "display_name": "Py38",
   "language": "python",
   "name": "xy_py38"
  },
  "language_info": {
   "codemirror_mode": {
    "name": "ipython",
    "version": 3
   },
   "file_extension": ".py",
   "mimetype": "text/x-python",
   "name": "python",
   "nbconvert_exporter": "python",
   "pygments_lexer": "ipython3",
   "version": "3.8.18"
  }
 },
 "nbformat": 4,
 "nbformat_minor": 5
}
